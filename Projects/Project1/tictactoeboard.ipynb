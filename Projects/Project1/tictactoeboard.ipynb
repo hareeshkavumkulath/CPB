{
 "cells": [
  {
   "cell_type": "code",
   "execution_count": 1,
   "metadata": {},
   "outputs": [
    {
     "name": "stdout",
     "output_type": "stream",
     "text": [
      "Please pick a marker 'X' or 'O'X\n"
     ]
    }
   ],
   "source": [
    "player1 = input(\"Please pick a marker 'X' or 'O'\")"
   ]
  },
  {
   "cell_type": "code",
   "execution_count": 2,
   "metadata": {
    "scrolled": true
   },
   "outputs": [
    {
     "name": "stdout",
     "output_type": "stream",
     "text": [
      "Please enter a number(1-9)3\n"
     ]
    }
   ],
   "source": [
    "position = input(\"Please enter a number(1-9)\")"
   ]
  },
  {
   "cell_type": "code",
   "execution_count": 3,
   "metadata": {},
   "outputs": [],
   "source": [
    "from IPython.display import clear_output\n",
    "def display_board(board):\n",
    "    clear_output()\n",
    "    print(board[7] + '|' + board[8] + '|' + board[9])\n",
    "    print('-----')\n",
    "    print(board[4] + '|' + board[5] + '|' + board[6])\n",
    "    print('-----')\n",
    "    print(board[1] + '|' + board[2] + '|' + board[3])"
   ]
  },
  {
   "cell_type": "code",
   "execution_count": 4,
   "metadata": {
    "scrolled": true
   },
   "outputs": [
    {
     "name": "stdout",
     "output_type": "stream",
     "text": [
      "X|O|X\n",
      "-----\n",
      "O|X|O\n",
      "-----\n",
      "X|O|X\n"
     ]
    }
   ],
   "source": [
    "test_board = ['#','X','O','X','O','X','O','X','O','X']\n",
    "display_board(test_board)"
   ]
  },
  {
   "cell_type": "code",
   "execution_count": null,
   "metadata": {},
   "outputs": [
    {
     "name": "stdout",
     "output_type": "stream",
     "text": [
      " | | \n",
      "-----\n",
      " | | \n",
      "-----\n",
      " | | \n"
     ]
    }
   ],
   "source": [
    "test_board = [' '] * 10\n",
    "display_board(test_board)"
   ]
  },
  {
   "cell_type": "code",
   "execution_count": null,
   "metadata": {},
   "outputs": [],
   "source": [
    "def player_input():\n",
    "    \n",
    "    marker = ''\n",
    "    while marker != 'X' and marker != 'O':\n",
    "        player1 = input('Player1, choose X or O ')\n",
    "        \n",
    "        marker = player1\n",
    "        if player1 == 'X':\n",
    "            player2 = 'O'\n",
    "        else:\n",
    "            player2 = 'X'\n",
    "    \n",
    "    return (player1, player2)"
   ]
  },
  {
   "cell_type": "code",
   "execution_count": null,
   "metadata": {},
   "outputs": [
    {
     "name": "stdout",
     "output_type": "stream",
     "text": [
      "Player1, choose X or O X\n"
     ]
    }
   ],
   "source": [
    "player1_marker, player2_marker = player_input()"
   ]
  },
  {
   "cell_type": "code",
   "execution_count": null,
   "metadata": {},
   "outputs": [
    {
     "data": {
      "text/plain": [
       "'X'"
      ]
     },
     "execution_count": 8,
     "metadata": {},
     "output_type": "execute_result"
    }
   ],
   "source": [
    "player1_marker"
   ]
  },
  {
   "cell_type": "code",
   "execution_count": null,
   "metadata": {},
   "outputs": [],
   "source": [
    "def place_marker(board,marker):\n",
    "    position = 0\n",
    "    while position == 0:\n",
    "        position = int(input('Enter number of the position(1-9)'))\n",
    "        if 0 < position < 10:\n",
    "            if board[position] == ' ':\n",
    "                board[position] = marker\n",
    "            else:\n",
    "                position = 0\n",
    "        else:\n",
    "            position = 0"
   ]
  },
  {
   "cell_type": "code",
   "execution_count": null,
   "metadata": {},
   "outputs": [
    {
     "name": "stdout",
     "output_type": "stream",
     "text": [
      " | | \n",
      "-----\n",
      " | | \n",
      "-----\n",
      " | | \n"
     ]
    }
   ],
   "source": [
    "test_board = [' '] * 10\n",
    "display_board(test_board)"
   ]
  },
  {
   "cell_type": "code",
   "execution_count": null,
   "metadata": {
    "scrolled": false
   },
   "outputs": [
    {
     "name": "stdout",
     "output_type": "stream",
     "text": [
      " | | \n",
      "-----\n",
      " | | \n",
      "-----\n",
      " |X| \n"
     ]
    }
   ],
   "source": [
    "place_marker(test_board,'X')\n",
    "display_board(test_board)"
   ]
  },
  {
   "cell_type": "code",
   "execution_count": null,
   "metadata": {},
   "outputs": [],
   "source": [
    "def win_check(board,marker):\n",
    "    return ((board[1] == marker and board[2] == marker and board[3] == marker) or\n",
    "            (board[4] == marker and board[5] == marker and board[6] == marker) or\n",
    "            (board[7] == marker and board[8] == marker and board[9] == marker) or\n",
    "            (board[1] == marker and board[4] == marker and board[7] == marker) or\n",
    "            (board[2] == marker and board[5] == marker and board[8] == marker) or\n",
    "            (board[3] == marker and board[6] == marker and board[9] == marker) or\n",
    "            (board[1] == marker and board[5] == marker and board[9] == marker) or\n",
    "            (board[7] == marker and board[5] == marker and board[3] == marker))"
   ]
  },
  {
   "cell_type": "code",
   "execution_count": null,
   "metadata": {},
   "outputs": [],
   "source": [
    "import random\n",
    "def choose_first():\n",
    "    if random.randint(0,1) == 1:\n",
    "        return 'Player1'\n",
    "    else:\n",
    "        return 'Player2'"
   ]
  },
  {
   "cell_type": "code",
   "execution_count": null,
   "metadata": {},
   "outputs": [
    {
     "data": {
      "text/plain": [
       "'Player2'"
      ]
     },
     "execution_count": 14,
     "metadata": {},
     "output_type": "execute_result"
    }
   ],
   "source": [
    "choose_first()"
   ]
  },
  {
   "cell_type": "code",
   "execution_count": null,
   "metadata": {},
   "outputs": [],
   "source": [
    "def full_board_check(board):\n",
    "    for i in range(1,10):\n",
    "        if board[i] == ' ':\n",
    "            return False\n",
    "    return True"
   ]
  },
  {
   "cell_type": "code",
   "execution_count": null,
   "metadata": {},
   "outputs": [],
   "source": [
    "def replay():\n",
    "    return input('Do you want to play again? Enter Yes or No: ').lower().startswith('y')"
   ]
  },
  {
   "cell_type": "code",
   "execution_count": null,
   "metadata": {},
   "outputs": [
    {
     "name": "stdout",
     "output_type": "stream",
     "text": [
      "O| | \n",
      "-----\n",
      "O|X| \n",
      "-----\n",
      "O|X| \n",
      "Player2 won\n",
      "Do you want to play again? Enter Yes or No: Y\n",
      "Player1, choose X or O X\n",
      "Player2 will play first\n"
     ]
    }
   ],
   "source": [
    "print('Welcome to tic-tac-toe')\n",
    "while True:\n",
    "    the_board = [' '] * 10\n",
    "    player1_marker, player2_marker = player_input()\n",
    "    turn = choose_first()\n",
    "    print(turn + ' will play first')\n",
    "    play_game = input('Are you ready to play? Enter Yes or No.')\n",
    "    \n",
    "    if play_game.lower()[0] == 'y':\n",
    "        game_on = True\n",
    "    else:\n",
    "        game_on = False\n",
    "        \n",
    "    while game_on:\n",
    "        if turn == 'Player1':\n",
    "            display_board(the_board)\n",
    "            place_marker(the_board, player1_marker)\n",
    "            display_board(the_board)\n",
    "            if win_check(the_board, player1_marker):\n",
    "                print('Player1 won')\n",
    "                break;\n",
    "            else:\n",
    "                if full_board_check(the_board):\n",
    "                    print('The game is a draw')\n",
    "                    break\n",
    "                else:\n",
    "                    turn = 'Player2'\n",
    "        else:\n",
    "            display_board(the_board)\n",
    "            place_marker(the_board, player2_marker)\n",
    "            display_board(the_board)\n",
    "            if win_check(the_board, player2_marker):\n",
    "                print('Player2 won')\n",
    "                break\n",
    "            else:\n",
    "                if full_board_check(the_board):\n",
    "                    print('The game is a draw')\n",
    "                    break\n",
    "                else:\n",
    "                    turn = 'Player1'\n",
    "    \n",
    "    if not replay():\n",
    "        break"
   ]
  },
  {
   "cell_type": "code",
   "execution_count": null,
   "metadata": {},
   "outputs": [],
   "source": []
  }
 ],
 "metadata": {
  "file_extension": ".py",
  "kernelspec": {
   "display_name": "Python 3",
   "language": "python",
   "name": "python3"
  },
  "language_info": {
   "codemirror_mode": {
    "name": "ipython",
    "version": 3
   },
   "file_extension": ".py",
   "mimetype": "text/x-python",
   "name": "python",
   "nbconvert_exporter": "python",
   "pygments_lexer": "ipython3",
   "version": "3.7.1"
  },
  "mimetype": "text/x-python",
  "name": "python",
  "npconvert_exporter": "python",
  "pygments_lexer": "ipython3",
  "version": 3
 },
 "nbformat": 4,
 "nbformat_minor": 2
}
