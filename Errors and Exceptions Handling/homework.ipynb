{
 "nbformat": 4,
 "nbformat_minor": 2,
 "metadata": {
  "language_info": {
   "name": "python",
   "codemirror_mode": {
    "name": "ipython",
    "version": 3
   },
   "version": "3.7.1"
  },
  "orig_nbformat": 2,
  "file_extension": ".py",
  "mimetype": "text/x-python",
  "name": "python",
  "npconvert_exporter": "python",
  "pygments_lexer": "ipython3",
  "version": 3
 },
 "cells": [
  {
   "cell_type": "code",
   "execution_count": 2,
   "metadata": {},
   "outputs": [
    {
     "name": "stdout",
     "output_type": "stream",
     "text": "Exception is caught\nException is caught\nException is caught\n"
    }
   ],
   "source": [
    "for i in ['a','b','c']:\n",
    "    try:\n",
    "        print(i**2)\n",
    "    except:\n",
    "        print(\"Exception is caught\")"
   ]
  },
  {
   "cell_type": "code",
   "execution_count": 4,
   "metadata": {},
   "outputs": [
    {
     "name": "stdout",
     "output_type": "stream",
     "text": "Division by zero is not correct\nAll done\n"
    }
   ],
   "source": [
    "\n",
    "x = 5\n",
    "y = 0\n",
    "try:\n",
    "    z = x/y\n",
    "except ZeroDivisionError:\n",
    "    print(\"Division by zero is not correct\")\n",
    "finally:\n",
    "    print(\"All done\")"
   ]
  },
  {
   "cell_type": "code",
   "execution_count": null,
   "metadata": {},
   "outputs": [],
   "source": [
    "def ask():\n",
    "    while True:\n",
    "        try:\n",
    "            number = int(input(\"Input an integer:\"))\n",
    "        except:\n",
    "            print(\"An error occurred! Please try again!\")\n",
    "            continue\n",
    "        else:\n",
    "            print(f\"Thank you, your number squared is: {number**2}\")\n",
    "            break "
   ]
  }
 ]
}